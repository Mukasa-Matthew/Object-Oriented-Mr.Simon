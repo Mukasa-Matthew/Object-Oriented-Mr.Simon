{
 "cells": [
  {
   "cell_type": "code",
   "execution_count": 1,
   "id": "ae1497ff",
   "metadata": {},
   "outputs": [
    {
     "name": "stdout",
     "output_type": "stream",
     "text": [
      "200\n",
      "red\n",
      "the init is called\n",
      "250\n",
      "blue\n",
      "the init is called\n",
      "150\n",
      "green\n",
      "the init is called\n",
      "200\n",
      "250\n",
      "150\n"
     ]
    }
   ],
   "source": [
    "class Car:\n",
    "    def __init__(self, speed, color):\n",
    "        print(speed)\n",
    "        print(color)\n",
    "\n",
    "#store the values in the object\n",
    "        self.speed = speed\n",
    "        self.color = color\n",
    "\n",
    "#show that the constructor was called\n",
    "        print(\"the init is called\")\n",
    "\n",
    "\n",
    "\n",
    "ford = Car(200, \"red\")\n",
    "audi = Car(250, \"blue\")\n",
    "toyota = Car(150, \"green\")\n",
    "\n",
    "print(ford.speed)\n",
    "print(audi.speed)\n",
    "print(toyota.speed)"
   ]
  },
  {
   "cell_type": "code",
   "execution_count": null,
   "id": "4026014c",
   "metadata": {},
   "outputs": [
    {
     "name": "stdout",
     "output_type": "stream",
     "text": [
      "200\n",
      "red\n",
      "the init is called\n",
      "250\n",
      "blue\n",
      "the init is called\n",
      "150\n",
      "green\n",
      "the init is called\n",
      "200\n",
      "250\n",
      "150\n"
     ]
    }
   ],
   "source": [
    "class Car:\n",
    "    def __init__(self, speed, color):\n",
    "        print(speed)\n",
    "        print(color)\n",
    "\n",
    "#store the values in the object\n",
    "        self.speed = speed\n",
    "        self.color = color\n",
    "\n",
    "#show that the constructor was called\n",
    "        print(\"the init is called\")\n",
    "\n",
    "\n",
    "\n",
    "ford = Car(200, \"red\")\n",
    "audi = Car(250, \"blue\")\n",
    "toyota = Car(150, \"green\")\n",
    "\n",
    "print(ford.speed)\n",
    "print(audi.speed)\n",
    "print(toyota.speed)\n",
    "\n",
    "\n",
    "\n",
    "\n",
    "\n",
    "\n",
    "\n",
    "\n"
   ]
  },
  {
   "cell_type": "code",
   "execution_count": 4,
   "id": "61d93a80",
   "metadata": {},
   "outputs": [
    {
     "name": "stdout",
     "output_type": "stream",
     "text": [
      "10\n",
      "20\n"
     ]
    },
    {
     "ename": "AttributeError",
     "evalue": "'Hello' object has no attribute '__c'",
     "output_type": "error",
     "traceback": [
      "\u001b[31m---------------------------------------------------------------------------\u001b[39m",
      "\u001b[31mAttributeError\u001b[39m                            Traceback (most recent call last)",
      "\u001b[36mCell\u001b[39m\u001b[36m \u001b[39m\u001b[32mIn[4]\u001b[39m\u001b[32m, line 11\u001b[39m\n\u001b[32m      9\u001b[39m \u001b[38;5;28mprint\u001b[39m(hello.a)\n\u001b[32m     10\u001b[39m \u001b[38;5;28mprint\u001b[39m(hello._b)\n\u001b[32m---> \u001b[39m\u001b[32m11\u001b[39m \u001b[38;5;28mprint\u001b[39m(\u001b[43mhello\u001b[49m\u001b[43m.\u001b[49m\u001b[43m__c\u001b[49m)\n",
      "\u001b[31mAttributeError\u001b[39m: 'Hello' object has no attribute '__c'"
     ]
    }
   ],
   "source": [
    "class Hello:\n",
    "    def __init__(self, name):\n",
    "        self.a = 10\n",
    "        self._b = 20 \n",
    "        self._c = 30\n",
    "\n",
    "\n",
    "hello = Hello(\"name\")\n",
    "print(hello.a)\n",
    "print(hello._b)\n",
    "print(hello.__c)"
   ]
  }
 ],
 "metadata": {
  "kernelspec": {
   "display_name": "Python 3",
   "language": "python",
   "name": "python3"
  },
  "language_info": {
   "codemirror_mode": {
    "name": "ipython",
    "version": 3
   },
   "file_extension": ".py",
   "mimetype": "text/x-python",
   "name": "python",
   "nbconvert_exporter": "python",
   "pygments_lexer": "ipython3",
   "version": "3.13.7"
  }
 },
 "nbformat": 4,
 "nbformat_minor": 5
}
